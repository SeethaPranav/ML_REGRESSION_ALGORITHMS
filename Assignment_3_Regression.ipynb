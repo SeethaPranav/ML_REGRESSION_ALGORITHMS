{
 "cells": [
  {
   "cell_type": "markdown",
   "id": "96a87fea-a159-49ea-a305-ffd299fa8bb1",
   "metadata": {},
   "source": [
    "<div style=\"text-align: center; font-size: 46px; color: blue;\">\n",
    "    <u><b>ASSIGNMENT 3 - REGRESSION</b></u>\n",
    "</div>"
   ]
  },
  {
   "cell_type": "markdown",
   "id": "34bdc189-45c0-4d6c-9cf6-4fc36fa2af1e",
   "metadata": {},
   "source": [
    "<div style=\"text-align: LEFT; font-size: 20px; color: white;\">\n",
    "    <p>The dataset \"California Housing.csv\" contains various features related to houses in California, including geographical data and the corresponding median house prices. The primary goal of this project is to design and implement a comprehensive regression system that addresses key challenges in predicting house prices, such as missing values, feature scaling, and model selection. By applying effective regression algorithms, the objective is to analyze the median house price based on various features and enhance the overall quality, reliability, and usability of the data for further analysis and machine learning applications. This task will focus on implementing and comparing multiple regression techniques to find the best model for predicting house prices. </p>    \n",
    "</div>"
   ]
  },
  {
   "cell_type": "markdown",
   "id": "7ab3617a-590f-48b8-be86-c58d354764ec",
   "metadata": {},
   "source": [
    "<div style=\"text-align: LEFT; font-size: 20px; color: red;\">\n",
    "    <u><b>SOURCE</b></u>\n",
    "</div>"
   ]
  },
  {
   "cell_type": "markdown",
   "id": "6a6f1377-2d7a-427b-8c14-b8b0eebdda92",
   "metadata": {},
   "source": [
    "<div style=\"text-align: LEFT; font-size: 20px; color: white;\">\n",
    "    <p>The California Housing dataset used for this project is available in the sklearn library. It can be loaded using the fetch_california_housing() function from sklearn.datasets.</p>\n",
    "</div>"
   ]
  },
  {
   "cell_type": "markdown",
   "id": "16a21ca6-a09a-4a89-889f-4d7c93da3f33",
   "metadata": {},
   "source": [
    "<div style=\"text-align: center; font-size: 36px; color: red;\">\n",
    "    <u><b>IMPORTING MODULES</b></u>\n",
    "</div>"
   ]
  },
  {
   "cell_type": "code",
   "execution_count": 2,
   "id": "56e10b34-f64f-49a5-bacd-7c465171b133",
   "metadata": {},
   "outputs": [],
   "source": [
    "import pandas as pd\n",
    "import numpy as np\n",
    "import matplotlib.pyplot as plt\n",
    "import seaborn as sns\n",
    "\n",
    "import warnings\n",
    "import sys\n",
    "if not sys.warnoptions:\n",
    "    warnings.simplefilter(\"ignore\")"
   ]
  },
  {
   "cell_type": "markdown",
   "id": "e19ee246-b327-4635-964c-d1d91d21d228",
   "metadata": {},
   "source": [
    "<div style=\"text-align: center; font-size: 36px; color: red;\">\n",
    "    <u><b>LOADING & PREPROCESSING</b></u>\n",
    "</div>"
   ]
  },
  {
   "cell_type": "markdown",
   "id": "389b9b74-d5cf-411a-a2b6-ed3e7f79ab85",
   "metadata": {},
   "source": [
    "<div style=\"text-align: left; font-size: 24px; color: violet;\">\n",
    "    <b>1. LOAD THE DATA AND CONVERT INTO DATA FRAME</b>\n",
    "</div>"
   ]
  },
  {
   "cell_type": "code",
   "execution_count": 15,
   "id": "bc93b83d-3ff7-46ec-8bfe-7900b66c55c2",
   "metadata": {},
   "outputs": [],
   "source": [
    "# LOAD THE DATASET\n",
    "from sklearn.datasets import fetch_california_housing\n",
    "\n",
    "data = fetch_california_housing()\n",
    "\n",
    "# EXTRACT THE FEATURES (X) AND TARGET VARIABLE (Y)\n",
    "X = pd.DataFrame(data.data, columns=data.feature_names)\n",
    "Y = pd.Series(data.target)"
   ]
  },
  {
   "cell_type": "markdown",
   "id": "72980424-255b-403b-9b16-01603c36b40b",
   "metadata": {},
   "source": [
    "<div style=\"text-align: left; font-size: 24px; color: violet;\">\n",
    "    <b>2. DISPLAY FIRST & LAST ROWS</b>\n",
    "</div>"
   ]
  },
  {
   "cell_type": "code",
   "execution_count": 17,
   "id": "6fa7762c-026e-4239-b502-c39db5b20f0a",
   "metadata": {},
   "outputs": [
    {
     "name": "stdout",
     "output_type": "stream",
     "text": [
      "   MedInc  HouseAge  AveRooms  AveBedrms  Population  AveOccup  Latitude  \\\n",
      "0  8.3252      41.0  6.984127   1.023810       322.0  2.555556     37.88   \n",
      "1  8.3014      21.0  6.238137   0.971880      2401.0  2.109842     37.86   \n",
      "2  7.2574      52.0  8.288136   1.073446       496.0  2.802260     37.85   \n",
      "3  5.6431      52.0  5.817352   1.073059       558.0  2.547945     37.85   \n",
      "4  3.8462      52.0  6.281853   1.081081       565.0  2.181467     37.85   \n",
      "\n",
      "   Longitude  \n",
      "0    -122.23  \n",
      "1    -122.22  \n",
      "2    -122.24  \n",
      "3    -122.25  \n",
      "4    -122.25  \n",
      "\n",
      "Target Variable (Prices) Sample:\n",
      "0    4.526\n",
      "1    3.585\n",
      "2    3.521\n",
      "3    3.413\n",
      "4    3.422\n",
      "dtype: float64\n"
     ]
    }
   ],
   "source": [
    "# DISPLAY FIRST FEW ROWS TO UNDERSTAND THE STRUCTURE OF THE DATA\n",
    "print(X.head())\n",
    "print(\"\\nTarget Variable (Prices) Sample:\")\n",
    "print(Y.head())\n"
   ]
  },
  {
   "cell_type": "code",
   "execution_count": 19,
   "id": "43dd28ff-c0ed-4058-ba5a-e3183f879ba9",
   "metadata": {},
   "outputs": [
    {
     "name": "stdout",
     "output_type": "stream",
     "text": [
      "       MedInc  HouseAge  AveRooms  AveBedrms  Population  AveOccup  Latitude  \\\n",
      "20635  1.5603      25.0  5.045455   1.133333       845.0  2.560606     39.48   \n",
      "20636  2.5568      18.0  6.114035   1.315789       356.0  3.122807     39.49   \n",
      "20637  1.7000      17.0  5.205543   1.120092      1007.0  2.325635     39.43   \n",
      "20638  1.8672      18.0  5.329513   1.171920       741.0  2.123209     39.43   \n",
      "20639  2.3886      16.0  5.254717   1.162264      1387.0  2.616981     39.37   \n",
      "\n",
      "       Longitude  \n",
      "20635    -121.09  \n",
      "20636    -121.21  \n",
      "20637    -121.22  \n",
      "20638    -121.32  \n",
      "20639    -121.24  \n",
      "\n",
      "Target Variable (Prices) Sample:\n",
      "20635    0.781\n",
      "20636    0.771\n",
      "20637    0.923\n",
      "20638    0.847\n",
      "20639    0.894\n",
      "dtype: float64\n"
     ]
    }
   ],
   "source": [
    "# DISPLAY LAST FEW ROWS TO UNDERSTAND THE STRUCTURE OF THE DATA\n",
    "print(X.tail())\n",
    "print(\"\\nTarget Variable (Prices) Sample:\")\n",
    "print(Y.tail())\n"
   ]
  },
  {
   "cell_type": "markdown",
   "id": "a3f5b9f6-ce26-4490-b128-3b4e970a9214",
   "metadata": {},
   "source": [
    "<div style=\"text-align: left; font-size: 24px; color: violet;\">\n",
    "    <b>3. DATATYPE OF EACH COLUMN</b>\n",
    "</div>"
   ]
  },
  {
   "cell_type": "code",
   "execution_count": 38,
   "id": "644e112e-6aaf-4546-a3de-f7c7281a78c4",
   "metadata": {},
   "outputs": [
    {
     "name": "stdout",
     "output_type": "stream",
     "text": [
      "Dataset Info:\n",
      "<class 'pandas.core.frame.DataFrame'>\n",
      "RangeIndex: 20640 entries, 0 to 20639\n",
      "Data columns (total 8 columns):\n",
      " #   Column      Non-Null Count  Dtype  \n",
      "---  ------      --------------  -----  \n",
      " 0   MedInc      20640 non-null  float64\n",
      " 1   HouseAge    20640 non-null  float64\n",
      " 2   AveRooms    20640 non-null  float64\n",
      " 3   AveBedrms   20640 non-null  float64\n",
      " 4   Population  20640 non-null  float64\n",
      " 5   AveOccup    20640 non-null  float64\n",
      " 6   Latitude    20640 non-null  float64\n",
      " 7   Longitude   20640 non-null  float64\n",
      "dtypes: float64(8)\n",
      "memory usage: 1.3 MB\n"
     ]
    }
   ],
   "source": [
    "# DISPLAY DATA TYPE OF EACH COLUMN\n",
    "print(\"Dataset Info:\")\n",
    "X.info()"
   ]
  },
  {
   "cell_type": "code",
   "execution_count": 36,
   "id": "78bd9725-eb65-4faa-be3c-57c0819ef90c",
   "metadata": {},
   "outputs": [
    {
     "name": "stdout",
     "output_type": "stream",
     "text": [
      "Dataset Info:\n",
      "<class 'pandas.core.series.Series'>\n",
      "RangeIndex: 20640 entries, 0 to 20639\n",
      "Series name: None\n",
      "Non-Null Count  Dtype  \n",
      "--------------  -----  \n",
      "20640 non-null  float64\n",
      "dtypes: float64(1)\n",
      "memory usage: 161.4 KB\n"
     ]
    }
   ],
   "source": [
    "# DISPLAY DATA TYPE OF EACH COLUMN\n",
    "print(\"Dataset Info:\")\n",
    "Y.info()"
   ]
  },
  {
   "cell_type": "markdown",
   "id": "2982a444-9add-48c9-999d-d3513a698ea1",
   "metadata": {},
   "source": [
    "<div style=\"text-align: left; font-size: 24px; color: violet;\">\n",
    "    <b>4. STATISTICAL SUMMARY OF DATA</b>\n",
    "</div>"
   ]
  },
  {
   "cell_type": "code",
   "execution_count": 34,
   "id": "ae162b83-2756-42e9-a772-459b0527e74b",
   "metadata": {},
   "outputs": [
    {
     "name": "stdout",
     "output_type": "stream",
     "text": [
      "Statistical Summary:\n"
     ]
    },
    {
     "data": {
      "text/html": [
       "<div>\n",
       "<style scoped>\n",
       "    .dataframe tbody tr th:only-of-type {\n",
       "        vertical-align: middle;\n",
       "    }\n",
       "\n",
       "    .dataframe tbody tr th {\n",
       "        vertical-align: top;\n",
       "    }\n",
       "\n",
       "    .dataframe thead th {\n",
       "        text-align: right;\n",
       "    }\n",
       "</style>\n",
       "<table border=\"1\" class=\"dataframe\">\n",
       "  <thead>\n",
       "    <tr style=\"text-align: right;\">\n",
       "      <th></th>\n",
       "      <th>MedInc</th>\n",
       "      <th>HouseAge</th>\n",
       "      <th>AveRooms</th>\n",
       "      <th>AveBedrms</th>\n",
       "      <th>Population</th>\n",
       "      <th>AveOccup</th>\n",
       "      <th>Latitude</th>\n",
       "      <th>Longitude</th>\n",
       "    </tr>\n",
       "  </thead>\n",
       "  <tbody>\n",
       "    <tr>\n",
       "      <th>count</th>\n",
       "      <td>20640.000000</td>\n",
       "      <td>20640.000000</td>\n",
       "      <td>20640.000000</td>\n",
       "      <td>20640.000000</td>\n",
       "      <td>20640.000000</td>\n",
       "      <td>20640.000000</td>\n",
       "      <td>20640.000000</td>\n",
       "      <td>20640.000000</td>\n",
       "    </tr>\n",
       "    <tr>\n",
       "      <th>mean</th>\n",
       "      <td>3.870671</td>\n",
       "      <td>28.639486</td>\n",
       "      <td>5.429000</td>\n",
       "      <td>1.096675</td>\n",
       "      <td>1425.476744</td>\n",
       "      <td>3.070655</td>\n",
       "      <td>35.631861</td>\n",
       "      <td>-119.569704</td>\n",
       "    </tr>\n",
       "    <tr>\n",
       "      <th>std</th>\n",
       "      <td>1.899822</td>\n",
       "      <td>12.585558</td>\n",
       "      <td>2.474173</td>\n",
       "      <td>0.473911</td>\n",
       "      <td>1132.462122</td>\n",
       "      <td>10.386050</td>\n",
       "      <td>2.135952</td>\n",
       "      <td>2.003532</td>\n",
       "    </tr>\n",
       "    <tr>\n",
       "      <th>min</th>\n",
       "      <td>0.499900</td>\n",
       "      <td>1.000000</td>\n",
       "      <td>0.846154</td>\n",
       "      <td>0.333333</td>\n",
       "      <td>3.000000</td>\n",
       "      <td>0.692308</td>\n",
       "      <td>32.540000</td>\n",
       "      <td>-124.350000</td>\n",
       "    </tr>\n",
       "    <tr>\n",
       "      <th>25%</th>\n",
       "      <td>2.563400</td>\n",
       "      <td>18.000000</td>\n",
       "      <td>4.440716</td>\n",
       "      <td>1.006079</td>\n",
       "      <td>787.000000</td>\n",
       "      <td>2.429741</td>\n",
       "      <td>33.930000</td>\n",
       "      <td>-121.800000</td>\n",
       "    </tr>\n",
       "    <tr>\n",
       "      <th>50%</th>\n",
       "      <td>3.534800</td>\n",
       "      <td>29.000000</td>\n",
       "      <td>5.229129</td>\n",
       "      <td>1.048780</td>\n",
       "      <td>1166.000000</td>\n",
       "      <td>2.818116</td>\n",
       "      <td>34.260000</td>\n",
       "      <td>-118.490000</td>\n",
       "    </tr>\n",
       "    <tr>\n",
       "      <th>75%</th>\n",
       "      <td>4.743250</td>\n",
       "      <td>37.000000</td>\n",
       "      <td>6.052381</td>\n",
       "      <td>1.099526</td>\n",
       "      <td>1725.000000</td>\n",
       "      <td>3.282261</td>\n",
       "      <td>37.710000</td>\n",
       "      <td>-118.010000</td>\n",
       "    </tr>\n",
       "    <tr>\n",
       "      <th>max</th>\n",
       "      <td>15.000100</td>\n",
       "      <td>52.000000</td>\n",
       "      <td>141.909091</td>\n",
       "      <td>34.066667</td>\n",
       "      <td>35682.000000</td>\n",
       "      <td>1243.333333</td>\n",
       "      <td>41.950000</td>\n",
       "      <td>-114.310000</td>\n",
       "    </tr>\n",
       "  </tbody>\n",
       "</table>\n",
       "</div>"
      ],
      "text/plain": [
       "             MedInc      HouseAge      AveRooms     AveBedrms    Population  \\\n",
       "count  20640.000000  20640.000000  20640.000000  20640.000000  20640.000000   \n",
       "mean       3.870671     28.639486      5.429000      1.096675   1425.476744   \n",
       "std        1.899822     12.585558      2.474173      0.473911   1132.462122   \n",
       "min        0.499900      1.000000      0.846154      0.333333      3.000000   \n",
       "25%        2.563400     18.000000      4.440716      1.006079    787.000000   \n",
       "50%        3.534800     29.000000      5.229129      1.048780   1166.000000   \n",
       "75%        4.743250     37.000000      6.052381      1.099526   1725.000000   \n",
       "max       15.000100     52.000000    141.909091     34.066667  35682.000000   \n",
       "\n",
       "           AveOccup      Latitude     Longitude  \n",
       "count  20640.000000  20640.000000  20640.000000  \n",
       "mean       3.070655     35.631861   -119.569704  \n",
       "std       10.386050      2.135952      2.003532  \n",
       "min        0.692308     32.540000   -124.350000  \n",
       "25%        2.429741     33.930000   -121.800000  \n",
       "50%        2.818116     34.260000   -118.490000  \n",
       "75%        3.282261     37.710000   -118.010000  \n",
       "max     1243.333333     41.950000   -114.310000  "
      ]
     },
     "execution_count": 34,
     "metadata": {},
     "output_type": "execute_result"
    }
   ],
   "source": [
    "# DISPLAY STATISTICAL SUMMARY \n",
    "print(\"Statistical Summary:\")\n",
    "X.describe()"
   ]
  },
  {
   "cell_type": "code",
   "execution_count": 42,
   "id": "5750e01e-a143-4cfd-882b-c616108cef63",
   "metadata": {},
   "outputs": [
    {
     "name": "stdout",
     "output_type": "stream",
     "text": [
      "Statistical Summary:\n"
     ]
    },
    {
     "data": {
      "text/plain": [
       "count    20640.000000\n",
       "mean         2.068558\n",
       "std          1.153956\n",
       "min          0.149990\n",
       "25%          1.196000\n",
       "50%          1.797000\n",
       "75%          2.647250\n",
       "max          5.000010\n",
       "dtype: float64"
      ]
     },
     "execution_count": 42,
     "metadata": {},
     "output_type": "execute_result"
    }
   ],
   "source": [
    "# DISPLAY STATISTICAL SUMMARY \n",
    "print(\"Statistical Summary:\")\n",
    "Y.describe()"
   ]
  },
  {
   "cell_type": "markdown",
   "id": "038525ae-17b8-4384-ba38-a1117e075d26",
   "metadata": {},
   "source": [
    "<div style=\"text-align: left; font-size: 24px; color: violet;\">\n",
    "    <b>5. DISPLAY ALL COLUMN NAMES</b>\n",
    "</div>"
   ]
  },
  {
   "cell_type": "code",
   "execution_count": 44,
   "id": "f2eda4db-3c5d-47cb-8598-6d831bb9bc65",
   "metadata": {},
   "outputs": [
    {
     "name": "stdout",
     "output_type": "stream",
     "text": [
      "Columns of the dataset:\n"
     ]
    },
    {
     "data": {
      "text/plain": [
       "Index(['MedInc', 'HouseAge', 'AveRooms', 'AveBedrms', 'Population', 'AveOccup',\n",
       "       'Latitude', 'Longitude'],\n",
       "      dtype='object')"
      ]
     },
     "execution_count": 44,
     "metadata": {},
     "output_type": "execute_result"
    }
   ],
   "source": [
    "# DISPLAY PARTICULAR COLUMN\n",
    "print(\"Columns of the dataset:\")\n",
    "X.columns"
   ]
  },
  {
   "cell_type": "markdown",
   "id": "814cc95e-5930-486c-90df-516222449254",
   "metadata": {},
   "source": [
    "<div style=\"text-align: left; font-size: 24px; color: violet;\">\n",
    "    <b>6. NULL / MISSING VALUES IN EACH COLUMN</b>\n",
    "</div>"
   ]
  },
  {
   "cell_type": "code",
   "execution_count": 51,
   "id": "57d39e75-bdde-4b04-9db5-ee52ae3c583d",
   "metadata": {},
   "outputs": [
    {
     "name": "stdout",
     "output_type": "stream",
     "text": [
      "Null values in each column:\n",
      "MedInc        0\n",
      "HouseAge      0\n",
      "AveRooms      0\n",
      "AveBedrms     0\n",
      "Population    0\n",
      "AveOccup      0\n",
      "Latitude      0\n",
      "Longitude     0\n",
      "dtype: int64\n"
     ]
    }
   ],
   "source": [
    "# DISPLAY NULL VALUES IN EACH COLUMN\n",
    "print(\"Null values in each column:\")\n",
    "print(X.isnull().sum())"
   ]
  },
  {
   "cell_type": "markdown",
   "id": "ab6a1db7-6ded-4031-abda-d5e3968b62ea",
   "metadata": {},
   "source": [
    "<div style=\"text-align: left; font-size: 24px; color: violet;\">\n",
    "    <b>7. DUPLICATE VALUES</b>\n",
    "</div>"
   ]
  },
  {
   "cell_type": "code",
   "execution_count": 163,
   "id": "fca0586a-343e-4d10-8746-f6ccbb34f907",
   "metadata": {},
   "outputs": [
    {
     "data": {
      "text/plain": [
       "0"
      ]
     },
     "execution_count": 163,
     "metadata": {},
     "output_type": "execute_result"
    }
   ],
   "source": [
    "# FINDING THE TOTAL NO OF DUPLICATES\n",
    "X.duplicated().sum()"
   ]
  },
  {
   "cell_type": "markdown",
   "id": "f0e971bd-251d-4676-a3d0-f716a2b298fa",
   "metadata": {},
   "source": [
    "<div style=\"text-align: left; font-size: 24px; color: violet;\">\n",
    "    <b>8. FEATURE SCALING</b>\n",
    "</div>"
   ]
  },
  {
   "cell_type": "code",
   "execution_count": 67,
   "id": "fc6c3016-2974-4736-9b12-3352054477cc",
   "metadata": {},
   "outputs": [
    {
     "name": "stdout",
     "output_type": "stream",
     "text": [
      "\n",
      "Scaled Feature Data (First 5 rows):\n",
      "[[ 2.34476576  0.98214266  0.62855945 -0.15375759 -0.9744286  -0.04959654\n",
      "   1.05254828 -1.32783522]\n",
      " [ 2.33223796 -0.60701891  0.32704136 -0.26333577  0.86143887 -0.09251223\n",
      "   1.04318455 -1.32284391]\n",
      " [ 1.7826994   1.85618152  1.15562047 -0.04901636 -0.82077735 -0.02584253\n",
      "   1.03850269 -1.33282653]\n",
      " [ 0.93296751  1.85618152  0.15696608 -0.04983292 -0.76602806 -0.0503293\n",
      "   1.03850269 -1.33781784]\n",
      " [-0.012881    1.85618152  0.3447108  -0.03290586 -0.75984669 -0.08561576\n",
      "   1.03850269 -1.33781784]]\n"
     ]
    }
   ],
   "source": [
    "from sklearn.preprocessing import StandardScaler\n",
    "\n",
    "scaler = StandardScaler() # OBJECT CREATION\n",
    "\n",
    "X_scaled = scaler.fit_transform(X)\n",
    "\n",
    "print(\"\\nScaled Feature Data (First 5 rows):\")\n",
    "print(X_scaled[:5])\n"
   ]
  },
  {
   "cell_type": "markdown",
   "id": "4eda8983-fd71-41a6-bbde-6cf6c83398f4",
   "metadata": {},
   "source": [
    "<div style=\"text-align: left; font-size: 24px; color: violet;\">\n",
    "    <b>9. SPLITTING THE DATA INTO TRAINING AND TESTING SET</b>\n",
    "</div>"
   ]
  },
  {
   "cell_type": "code",
   "execution_count": 167,
   "id": "287b436f-b79a-4d41-89e0-92dd03afc51c",
   "metadata": {},
   "outputs": [
    {
     "name": "stdout",
     "output_type": "stream",
     "text": [
      "\n",
      "Training set shape of X:  (16512, 8)\n",
      "Test set shape of X: (4128, 8)\n",
      "\n",
      "Training set shape of Y (16512,)\n",
      "Test set shape of Y: (4128,)\n"
     ]
    }
   ],
   "source": [
    "from sklearn.model_selection import train_test_split\n",
    "\n",
    "X_train, X_test, Y_train, Y_test = train_test_split(X_scaled, Y, test_size=0.2, random_state=42)\n",
    "\n",
    "print(\"\\nTraining set shape of X: \", X_train.shape)\n",
    "print(\"Test set shape of X:\", X_test.shape)\n",
    "print(\"\\nTraining set shape of Y\", Y_train.shape)\n",
    "print(\"Test set shape of Y:\", Y_test.shape)\n"
   ]
  },
  {
   "cell_type": "markdown",
   "id": "2f2e7723-0e51-4708-b7ec-b1667b73a8bd",
   "metadata": {},
   "source": [
    "<div style=\"text-align: LEFT; font-size: 20px; color: white;\">\n",
    "    <p><b><u>Preprocessing steps with explanations:</u></b>\n",
    "\n",
    "1. *Load the Data*: \n",
    "   - Used the `fetch_california_housing` function to load the dataset containing features (X) and target values (Y).\n",
    "\n",
    "2. *Convert to DataFrame*: \n",
    "   - Converted the data into pandas DataFrames for easier manipulation and analysis.\n",
    "\n",
    "3. *Display First and Last Rows*: \n",
    "   - Displayed the first few rows of X and Y to understand the data structure and confirm it loaded correctly.\n",
    "\n",
    "4. *Check Data Types*: \n",
    "   - Used `info()` to check the data types of the columns and ensure they are as expected (numerical values).\n",
    "\n",
    "5. *Statistical Summary*: \n",
    "   - Used `describe()` to view statistics (mean, min, max, etc.) of both features and target to understand their distribution.\n",
    "\n",
    "6. *Display Column Names*: \n",
    "   - Printed the column names of the features to know what variables we are working with.\n",
    "\n",
    "7. *Check for Missing Values*: \n",
    "   - Checked for missing values with `isnull().sum()` to ensure the dataset is complete.\n",
    "\n",
    "8. *Find Duplicate Rows*: \n",
    "   - Checked for duplicate rows using `duplicated().sum()` to ensure there are no repeated records.\n",
    "\n",
    "9. *Feature Scaling*: \n",
    "   - Scaled the features using `StandardScaler` to ensure that all features are on the same scale, which is important for some machine learning models.\n",
    "\n",
    "10. *Train-Test Split*: \n",
    "    - Split the data into training and testing sets to evaluate the model’s performance on unseen data.\n",
    "\n",
    "These steps are necessary to clean and prepare the data for better model performance.</p>\n",
    "</div>"
   ]
  },
  {
   "cell_type": "markdown",
   "id": "02a0bb1e-245c-467d-9da8-ce5e08b9006a",
   "metadata": {},
   "source": [
    "<div style=\"text-align: center; font-size: 36px; color: red;\">\n",
    "    <u><b>REGRESSION ALGORITHMS IMPLEMENTATION</b></u>\n",
    "</div>"
   ]
  },
  {
   "cell_type": "markdown",
   "id": "f128f655-beb0-454a-9170-e3fdf1b3277e",
   "metadata": {},
   "source": [
    "<div style=\"text-align: left; font-size: 24px; color: violet;\">\n",
    "    <b>1. LINEAR REGRESSION ALGORITHM</b>\n",
    "</div>"
   ]
  },
  {
   "cell_type": "code",
   "execution_count": 87,
   "id": "22cf0c4d-19a0-49f7-8311-a89bd8243473",
   "metadata": {},
   "outputs": [
    {
     "data": {
      "text/plain": [
       "array([0.71912284, 1.76401657, 2.70965883, ..., 4.46877017, 1.18751119,\n",
       "       2.00940251])"
      ]
     },
     "execution_count": 87,
     "metadata": {},
     "output_type": "execute_result"
    }
   ],
   "source": [
    "from sklearn.linear_model import LinearRegression\n",
    "\n",
    "lr_model = LinearRegression()\n",
    "\n",
    "lr_model.fit(X_train, Y_train)\n",
    "\n",
    "y_pred = lr_model.predict(X_test)\n",
    "y_pred\n"
   ]
  },
  {
   "cell_type": "markdown",
   "id": "8d6dad2d-60be-4f51-8607-8efe8309d84d",
   "metadata": {},
   "source": [
    "<div style=\"text-align: left; font-size: 22px; color: white;\">\n",
    "    <p>Linear Regression works by finding the best-fit line that minimizes the difference between the actual and predicted values. It assumes a linear relationship between the target variable (house prices) and input features (such as average income, house age, etc.). This model is suitable for the California Housing dataset because factors like income and location likely have a linear influence on house prices, making it a good fit for predicting the target variable.</p>\n",
    " </div>       \n",
    "        "
   ]
  },
  {
   "cell_type": "markdown",
   "id": "3c9531c7-fde0-4de2-9114-ab8b29119fe4",
   "metadata": {},
   "source": [
    "<div style=\"text-align: left; font-size: 24px; color: violet;\">\n",
    "    <b>2. DECISION TREE REGRESSOR ALGORITHM</b>\n",
    "</div>"
   ]
  },
  {
   "cell_type": "code",
   "execution_count": 99,
   "id": "a47baff2-e15a-4fd5-a851-571a76cbea29",
   "metadata": {},
   "outputs": [
    {
     "data": {
      "text/plain": [
       "array([0.414  , 1.203  , 5.00001, ..., 5.00001, 0.66   , 2.172  ])"
      ]
     },
     "execution_count": 99,
     "metadata": {},
     "output_type": "execute_result"
    }
   ],
   "source": [
    "from sklearn.tree import DecisionTreeRegressor\n",
    "\n",
    "dt_model = DecisionTreeRegressor(random_state=42)\n",
    "\n",
    "dt_model.fit(X_train, Y_train)\n",
    "\n",
    "y_pred_dt = dt_model.predict(X_test)\n",
    "y_pred_dt\n"
   ]
  },
  {
   "cell_type": "markdown",
   "id": "da67223a-1dce-4677-b9eb-20a6e9a32313",
   "metadata": {},
   "source": [
    "<div style=\"text-align: left; font-size: 22px; color: white;\">\n",
    "    <p>The Decision Tree Regressor works by recursively splitting the data based on feature values to minimize the variance within each subset. It does not assume a linear relationship between the target variable (house prices) and the input features (such as average income, house age, etc.). This model is suitable for the California Housing dataset because it can capture non-linear relationships and complex interactions between features, like how income and location might jointly influence house prices in ways that a linear model cannot.</P>\n",
    "</div>"
   ]
  },
  {
   "cell_type": "markdown",
   "id": "474d2a1f-1840-45c8-9c44-2c9071a020e3",
   "metadata": {},
   "source": [
    "<div style=\"text-align: left; font-size: 24px; color: violet;\">\n",
    "    <b>3. RANDOM FOREST REGRESSOR ALGORITHM</b>\n",
    "</div>"
   ]
  },
  {
   "cell_type": "code",
   "execution_count": 118,
   "id": "8d0ba660-8dd3-41e8-b236-4ada99e20fb5",
   "metadata": {},
   "outputs": [
    {
     "data": {
      "text/plain": [
       "array([0.5095   , 0.74161  , 4.9232571, ..., 4.7582187, 0.71443  ,\n",
       "       1.65772  ])"
      ]
     },
     "execution_count": 118,
     "metadata": {},
     "output_type": "execute_result"
    }
   ],
   "source": [
    "from sklearn.ensemble import RandomForestRegressor\n",
    "\n",
    "rf_model = RandomForestRegressor(n_estimators=100, random_state=42)\n",
    "\n",
    "rf_model.fit(X_train, Y_train)\n",
    "\n",
    "y_pred_rf = rf_model.predict(X_test)\n",
    "y_pred_rf\n"
   ]
  },
  {
   "cell_type": "markdown",
   "id": "a06e7677-6256-4aae-a576-77cd01a0b204",
   "metadata": {},
   "source": [
    "<div style=\"text-align: left; font-size: 22px; color: white;\">\n",
    "    <p>The Random Forest Regressor is an ensemble learning method that builds multiple decision trees and combines their predictions to improve accuracy and reduce overfitting. It handles complex, non-linear relationships between features and target variables effectively. This makes it suitable for the California Housing dataset, as it can capture intricate interactions between factors like income, house age, and location while providing robust predictions and feature importance insights.</p>\n",
    "</div>"
   ]
  },
  {
   "cell_type": "markdown",
   "id": "f2744a11-4bdf-4424-a67c-4479c440b42f",
   "metadata": {},
   "source": [
    "<div style=\"text-align: left; font-size: 24px; color: violet;\">\n",
    "    <b>4. GRADIENT BOOSTING REGRESSOR ALGORITHM</b>\n",
    "</div>"
   ]
  },
  {
   "cell_type": "code",
   "execution_count": 126,
   "id": "30adc0bb-ed1c-4bd2-ad38-540dee23728d",
   "metadata": {},
   "outputs": [
    {
     "data": {
      "text/plain": [
       "array([0.50518761, 1.09334601, 4.24570956, ..., 4.68181295, 0.85329537,\n",
       "       1.96275219])"
      ]
     },
     "execution_count": 126,
     "metadata": {},
     "output_type": "execute_result"
    }
   ],
   "source": [
    "from sklearn.ensemble import GradientBoostingRegressor\n",
    "\n",
    "gb_model = GradientBoostingRegressor(n_estimators=100, random_state=42)\n",
    "\n",
    "\n",
    "gb_model.fit(X_train, Y_train)\n",
    "\n",
    "y_pred_gb = gb_model.predict(X_test)\n",
    "y_pred_gb\n"
   ]
  },
  {
   "cell_type": "markdown",
   "id": "ab5a9368-aa99-4c55-a33f-5cd46b8077cf",
   "metadata": {},
   "source": [
    "<div style=\"text-align: left; font-size: 22px; color: white;\">\n",
    "    <p>The Gradient Boosting Regressor is an ensemble learning technique that builds models sequentially, with each model correcting the errors of the previous one. It minimizes residual errors using gradient descent and combines predictions from multiple weak learners to improve accuracy. This method is well-suited for the California Housing dataset as it can effectively capture complex, non-linear relationships between features like income, house age, and location, making it highly effective for predicting house prices.</p>\n",
    "</div>"
   ]
  },
  {
   "cell_type": "markdown",
   "id": "5d0695a6-8dab-4094-a79e-8d1c35042604",
   "metadata": {},
   "source": [
    "<div style=\"text-align: left; font-size: 24px; color: violet;\">\n",
    "    <b>5. SUPPORT VECTOR REGRESSOR ALGORITHM</b>\n",
    "</div>"
   ]
  },
  {
   "cell_type": "code",
   "execution_count": 134,
   "id": "5bf12bd0-3aad-4715-92bb-ebbe53a6b183",
   "metadata": {},
   "outputs": [
    {
     "data": {
      "text/plain": [
       "array([0.52166189, 1.56843583, 3.58873947, ..., 4.80511008, 0.70878931,\n",
       "       1.73587521])"
      ]
     },
     "execution_count": 134,
     "metadata": {},
     "output_type": "execute_result"
    }
   ],
   "source": [
    "from sklearn.svm import SVR\n",
    "\n",
    "svr_model = SVR(kernel='rbf')  \n",
    "\n",
    "svr_model.fit(X_train, Y_train)\n",
    "\n",
    "y_pred_svr = svr_model.predict(X_test)\n",
    "y_pred_svr\n"
   ]
  },
  {
   "cell_type": "markdown",
   "id": "28751a1a-3afd-4cca-987a-3d437793bd1d",
   "metadata": {},
   "source": [
    "<div style=\"text-align: left; font-size: 22px; color: white;\">\n",
    "    <p>The Support Vector Regressor (SVR) is a regression model that finds a function which fits the data within a specified margin of error, focusing on minimizing the error for key data points called support vectors. It can handle both linear and non-linear relationships by applying kernel functions, such as the Radial Basis Function (RBF). SVR is suitable for the California Housing dataset because it can capture complex, non-linear relationships between features like income, house age, and location, while also being robust to outliers and effective in high-dimensional spaces.</p>\n",
    "</div>"
   ]
  },
  {
   "cell_type": "markdown",
   "id": "8d2ec8e5-e978-44ed-a13e-6998aea03d24",
   "metadata": {},
   "source": [
    "<div style=\"text-align: center; font-size: 36px; color: red;\">\n",
    "    <u><b>MODEL EVALUATION</b></u>\n",
    "</div>"
   ]
  },
  {
   "cell_type": "markdown",
   "id": "52121426-84e7-49c6-b63e-cf1a7ebcf61a",
   "metadata": {},
   "source": [
    "<div style=\"text-align: left; font-size: 24px; color: violet;\">\n",
    "    <b>1. LINEAR REGRESSION MODEL EVALUATION</b>\n",
    "</div>"
   ]
  },
  {
   "cell_type": "code",
   "execution_count": 141,
   "id": "f3dd4ffa-b9e2-4fbc-8a4a-3ae2f964bf88",
   "metadata": {},
   "outputs": [
    {
     "name": "stdout",
     "output_type": "stream",
     "text": [
      "Linear Regression Model Evaluation:\n",
      "Mean Squared Error (MSE): 0.5558915986952442\n",
      "Mean Absolute Error (MAE): 0.5332001304956566\n",
      "R-squared (R²): 0.575787706032451\n"
     ]
    }
   ],
   "source": [
    "from sklearn.metrics import mean_squared_error, mean_absolute_error, r2_score\n",
    "\n",
    "# Calculate Mean Squared Error (MSE)\n",
    "mse = mean_squared_error(Y_test, y_pred)\n",
    "\n",
    "# Calculate Mean Absolute Error (MAE)\n",
    "mae = mean_absolute_error(Y_test, y_pred)\n",
    "\n",
    "# Calculate R-squared (R²)\n",
    "r2 = r2_score(Y_test, y_pred)\n",
    "\n",
    "# Print the evaluation metrics\n",
    "print(f\"Linear Regression Model Evaluation:\")\n",
    "print(f\"Mean Squared Error (MSE): {mse}\")\n",
    "print(f\"Mean Absolute Error (MAE): {mae}\")\n",
    "print(f\"R-squared (R²): {r2}\")\n"
   ]
  },
  {
   "cell_type": "markdown",
   "id": "4ff36969-6336-4613-9546-c4750d2130ac",
   "metadata": {},
   "source": [
    "<div style=\"text-align: left; font-size: 24px; color: violet;\">\n",
    "    <b>2. DECISION TREE REGRESSOR MODEL EVALUATION</b>\n",
    "</div>"
   ]
  },
  {
   "cell_type": "code",
   "execution_count": 143,
   "id": "a9d5a122-1234-48f5-a118-be92468bedf9",
   "metadata": {},
   "outputs": [
    {
     "name": "stdout",
     "output_type": "stream",
     "text": [
      "Decision Tree Regressor Evaluation:\n",
      "Mean Squared Error (MSE): 0.4942716777366763\n",
      "Mean Absolute Error (MAE): 0.4537843265503876\n",
      "R-squared (R²): 0.6228111330554302\n"
     ]
    }
   ],
   "source": [
    "from sklearn.metrics import mean_squared_error, mean_absolute_error, r2_score\n",
    "\n",
    "# Calculate Mean Squared Error (MSE)\n",
    "mse_dt = mean_squared_error(Y_test, y_pred_dt)\n",
    "\n",
    "# Calculate Mean Absolute Error (MAE)\n",
    "mae_dt = mean_absolute_error(Y_test, y_pred_dt)\n",
    "\n",
    "# Calculate R-squared (R²)\n",
    "r2_dt = r2_score(Y_test, y_pred_dt)\n",
    "\n",
    "# Print the evaluation metrics\n",
    "print(f\"Decision Tree Regressor Evaluation:\")\n",
    "print(f\"Mean Squared Error (MSE): {mse_dt}\")\n",
    "print(f\"Mean Absolute Error (MAE): {mae_dt}\")\n",
    "print(f\"R-squared (R²): {r2_dt}\")\n"
   ]
  },
  {
   "cell_type": "markdown",
   "id": "67e4034a-e870-49a1-8599-a73adad9104b",
   "metadata": {},
   "source": [
    "<div style=\"text-align: left; font-size: 24px; color: violet;\">\n",
    "    <b>3. RANDOM FOREST REGRESSOR MODEL EVALUATION</b>\n",
    "</div>"
   ]
  },
  {
   "cell_type": "code",
   "execution_count": 145,
   "id": "e0c335e3-1d83-4e9b-84fd-aa24d872aa6d",
   "metadata": {},
   "outputs": [
    {
     "name": "stdout",
     "output_type": "stream",
     "text": [
      "Random Forest Regressor Evaluation:\n",
      "Mean Squared Error (MSE): 0.25549776668540763\n",
      "Mean Absolute Error (MAE): 0.32761306601259704\n",
      "R-squared (R²): 0.805024407701793\n"
     ]
    }
   ],
   "source": [
    "from sklearn.metrics import mean_squared_error, mean_absolute_error, r2_score\n",
    "\n",
    "# Calculate Mean Squared Error (MSE)\n",
    "mse_rf = mean_squared_error(Y_test, y_pred_rf)\n",
    "\n",
    "# Calculate Mean Absolute Error (MAE)\n",
    "mae_rf = mean_absolute_error(Y_test, y_pred_rf)\n",
    "\n",
    "# Calculate R-squared (R²)\n",
    "r2_rf = r2_score(Y_test, y_pred_rf)\n",
    "\n",
    "# Print the evaluation metrics\n",
    "print(f\"Random Forest Regressor Evaluation:\")\n",
    "print(f\"Mean Squared Error (MSE): {mse_rf}\")\n",
    "print(f\"Mean Absolute Error (MAE): {mae_rf}\")\n",
    "print(f\"R-squared (R²): {r2_rf}\")\n"
   ]
  },
  {
   "cell_type": "markdown",
   "id": "b23aecb6-7229-472b-8729-7c95563895ee",
   "metadata": {},
   "source": [
    "<div style=\"text-align: left; font-size: 24px; color: violet;\">\n",
    "    <b>4. GRADIENT BOOSTING REGRESSOR MODEL EVALUATION</b>\n",
    "</div>"
   ]
  },
  {
   "cell_type": "code",
   "execution_count": 148,
   "id": "b905eaf1-ba70-4652-8765-cc7093265140",
   "metadata": {},
   "outputs": [
    {
     "name": "stdout",
     "output_type": "stream",
     "text": [
      "Gradient Boosting Regressor Evaluation:\n",
      "Mean Squared Error (MSE): 0.29399901242474274\n",
      "Mean Absolute Error (MAE): 0.37165044848436773\n",
      "R-squared (R²): 0.7756433164710084\n"
     ]
    }
   ],
   "source": [
    "from sklearn.metrics import mean_squared_error, mean_absolute_error, r2_score\n",
    "\n",
    "# Calculate Mean Squared Error (MSE)\n",
    "mse_gb = mean_squared_error(Y_test, y_pred_gb)\n",
    "\n",
    "# Calculate Mean Absolute Error (MAE)\n",
    "mae_gb = mean_absolute_error(Y_test, y_pred_gb)\n",
    "\n",
    "# Calculate R-squared (R²)\n",
    "r2_gb = r2_score(Y_test, y_pred_gb)\n",
    "\n",
    "# Print the evaluation metrics\n",
    "print(f\"Gradient Boosting Regressor Evaluation:\")\n",
    "print(f\"Mean Squared Error (MSE): {mse_gb}\")\n",
    "print(f\"Mean Absolute Error (MAE): {mae_gb}\")\n",
    "print(f\"R-squared (R²): {r2_gb}\")\n"
   ]
  },
  {
   "cell_type": "markdown",
   "id": "99c46990-e26a-4e6b-87b4-31be3c2c333e",
   "metadata": {},
   "source": [
    "<div style=\"text-align: left; font-size: 24px; color: violet;\">\n",
    "    <b>5. SUPPORT VECTOR REGRESSOR MODEL EVALUATION</b>\n",
    "</div>"
   ]
  },
  {
   "cell_type": "code",
   "execution_count": 150,
   "id": "df97a00c-bd30-4282-8bed-da3b618bf5b0",
   "metadata": {
    "scrolled": true
   },
   "outputs": [
    {
     "name": "stdout",
     "output_type": "stream",
     "text": [
      "Support Vector Regressor Evaluation:\n",
      "Mean Squared Error (MSE): 0.3551984619989429\n",
      "Mean Absolute Error (MAE): 0.397763096343787\n",
      "R-squared (R²): 0.7289407597956454\n"
     ]
    }
   ],
   "source": [
    "from sklearn.metrics import mean_squared_error, mean_absolute_error, r2_score\n",
    "\n",
    "# Calculate Mean Squared Error (MSE)\n",
    "mse_svr = mean_squared_error(Y_test, y_pred_svr)\n",
    "\n",
    "# Calculate Mean Absolute Error (MAE)\n",
    "mae_svr = mean_absolute_error(Y_test, y_pred_svr)\n",
    "\n",
    "# Calculate R-squared (R²)\n",
    "r2_svr = r2_score(Y_test, y_pred_svr)\n",
    "\n",
    "# Print the evaluation metrics\n",
    "print(f\"Support Vector Regressor Evaluation:\")\n",
    "print(f\"Mean Squared Error (MSE): {mse_svr}\")\n",
    "print(f\"Mean Absolute Error (MAE): {mae_svr}\")\n",
    "print(f\"R-squared (R²): {r2_svr}\")\n"
   ]
  },
  {
   "cell_type": "markdown",
   "id": "e4af113b-af37-4464-b866-1fa50171850d",
   "metadata": {},
   "source": [
    "<div style=\"text-align: center; font-size: 28px; color: purple;\">\n",
    "    <b>Summary of Best and Worst-Performing Models</b>\n",
    "</div>"
   ]
  },
  {
   "cell_type": "markdown",
   "id": "e3dcc325-4a40-4149-a995-5c3710522fac",
   "metadata": {},
   "source": [
    "<div style=\"text-align: left; font-size: 22px; color: white;\">\n",
    "    <p><u>Best-Performing Model:</u></p>\n",
    "\n",
    "<P>Random Forest Regressor is the best-performing model with the lowest MSE (0.2555), lowest MAE (0.3276), and the highest R² (0.8050). This indicates that it has the highest predictive accuracy and is able to explain the most variance in the target variable (house prices). It handles the complex, non-linear relationships in the dataset effectively.</P>\n",
    "\n",
    "<P><u>Worst-Performing Model:</u></P>\n",
    "\n",
    "<P>Linear Regression performs the worst among the models tested, with the highest MSE (0.5559) and MAE (0.5332). Its R² score of 0.5758 means it only explains 57.5% of the variation in the data, which is relatively low compared to the tree-based models. Linear Regression assumes a straight-line relationship between the features and the target, but this may not be enough for this dataset, as it likely has more complex, non-linear patterns.</p>\n",
    "</div>"
   ]
  },
  {
   "cell_type": "markdown",
   "id": "4e637817-6499-4304-b982-41fd46c4c994",
   "metadata": {},
   "source": [
    "<div style=\"text-align: center; font-size: 36px; color: red;\">\n",
    "    <u><b>CONCLUSION </b></u>\n",
    "</div>"
   ]
  },
  {
   "cell_type": "markdown",
   "id": "baa6bc8c-48aa-4877-a51d-934fb8b1ea50",
   "metadata": {},
   "source": [
    "<div style=\"text-align: left; font-size: 22px; color: white;\">\n",
    "    <p>\n",
    "The Random Forest Regressor is the best model for the California Housing dataset because it performs well and can handle complex patterns in the data. On the other hand, Linear Regression is the least effective model, likely because it assumes a simple linear relationship, which doesn't capture the complexity of the data.</p>\n",
    "</div>"
   ]
  },
  {
   "cell_type": "code",
   "execution_count": null,
   "id": "a6002bda-1019-4e59-aa86-03b80ac967b6",
   "metadata": {},
   "outputs": [],
   "source": []
  }
 ],
 "metadata": {
  "kernelspec": {
   "display_name": "Python 3 (ipykernel)",
   "language": "python",
   "name": "python3"
  },
  "language_info": {
   "codemirror_mode": {
    "name": "ipython",
    "version": 3
   },
   "file_extension": ".py",
   "mimetype": "text/x-python",
   "name": "python",
   "nbconvert_exporter": "python",
   "pygments_lexer": "ipython3",
   "version": "3.12.4"
  }
 },
 "nbformat": 4,
 "nbformat_minor": 5
}
